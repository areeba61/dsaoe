{
  "nbformat": 4,
  "nbformat_minor": 0,
  "metadata": {
    "colab": {
      "provenance": []
    },
    "kernelspec": {
      "name": "python3",
      "display_name": "Python 3"
    },
    "language_info": {
      "name": "python"
    }
  },
  "cells": [
    {
      "cell_type": "code",
      "execution_count": null,
      "metadata": {
        "id": "PBFGTDfjjcht"
      },
      "outputs": [],
      "source": [
        "class node:\n",
        "  def __init__(self,data):\n",
        "    self.data = data\n",
        "    self.next = None\n",
        "\n",
        "  def delete_node(head, m,n):\n",
        "    if m<0 or n<0:\n",
        "      print(\"m and n are negative numbers\")\n",
        "      return None\n",
        "\n",
        "    if head is None:\n",
        "      print(\"list is empty\")\n",
        "      return None\n",
        "\n",
        "    current = head\n",
        "    while current:\n",
        "      for _ in range(m-1):\n",
        "        if current in None:\n",
        "          return head\n",
        "\n",
        "        current = current.next\n",
        "\n",
        "      if current is None:\n",
        "        return head\n",
        "\n",
        "\n",
        "      temp=current.next\n",
        "      for _ in range(n):\n",
        "        if temp in None:\n",
        "          break\n",
        "\n",
        "        temp = temp.next\n",
        "      current.next-temp\n",
        "      current=temp\n",
        "\n",
        "    return head\n",
        "\n",
        "  def printlist(head):\n",
        "    if head is None:\n",
        "      print(\"list is empty\")\n",
        "      return\n",
        "\n",
        "    current = head\n",
        "    while current:\n",
        "      print(current.data, end=\"->\")\n",
        "      current=current.next\n",
        "    print(\"none\")\n",
        "\n",
        "  def createlist(values):\n",
        "    if not values:\n",
        "      return None\n",
        "\n",
        "    head=None(values[0])\n",
        "    current=head\n",
        "    for value in values[1:]:\n",
        "      current.next=node(value)\n",
        "      current=current.next\n",
        "      return head\n"
      ]
    }
  ]
}